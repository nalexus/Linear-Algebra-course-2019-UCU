{
 "cells": [
  {
   "cell_type": "markdown",
   "metadata": {},
   "source": [
    "# Problem 11"
   ]
  },
  {
   "cell_type": "markdown",
   "metadata": {},
   "source": [
    "I will firstly compute QR decompostion by hands. Then I will write a code and check my QR decomposition:"
   ]
  },
  {
   "cell_type": "markdown",
   "metadata": {},
   "source": [
    "# (a)"
   ]
  },
  {
   "cell_type": "markdown",
   "metadata": {},
   "source": [
    "$\n",
    "A\n",
    "=\n",
    "\\begin{pmatrix}3&-1\\\\ 4&3\\end{pmatrix}\n",
    "\\rightarrow\n",
    "\\vec{u_1}\n",
    "=\n",
    "\\begin{pmatrix}3\\\\ 4\\end{pmatrix}\n",
    ";\n",
    "\\vec{u_2}\n",
    "=\n",
    "\\begin{pmatrix}-1\\\\ 3\\end{pmatrix};\n",
    "\\\\\\\\\n",
    "$"
   ]
  },
  {
   "cell_type": "markdown",
   "metadata": {},
   "source": [
    "Let $\\vec{u_1} = \\vec{v_1} = \\begin{pmatrix}3\\\\ 4\\end{pmatrix}$."
   ]
  },
  {
   "cell_type": "markdown",
   "metadata": {},
   "source": [
    "Then:\n",
    "\n",
    "$\n",
    "\\\\\n",
    "\\vec{v_2} = \\vec{u_2} - proj_{\\vec{v_1}}\\vec{u_2}\n",
    "= \n",
    "\\vec{u_2} - \\frac{\\vec{u_2} \\cdot \\vec{v_1}}{\\vec{v_1} \\cdot \\vec{v_1}}\\vec{v_1}\n",
    "=\n",
    "\\\\\n",
    "=\n",
    "\\begin{pmatrix}-1\\\\ 3\\end{pmatrix}\n",
    "-\n",
    "\\frac{\\begin{pmatrix}-1&3\\end{pmatrix}\\begin{pmatrix}3\\\\ 4\\end{pmatrix}}{\\begin{pmatrix}3&4\\end{pmatrix}\\begin{pmatrix}3\\\\ 4\\end{pmatrix}}\\begin{pmatrix}3\\\\ 4\\end{pmatrix}\n",
    "=\n",
    "\\begin{pmatrix}-1\\\\ 3\\end{pmatrix}\n",
    "-\n",
    "\\frac{9}{25}\n",
    "\\begin{pmatrix}3\\\\ 4\\end{pmatrix}\n",
    "=\n",
    "\\begin{pmatrix}-1\\\\ 3\\end{pmatrix}\n",
    "-\n",
    "\\begin{pmatrix}\\frac{27}{25}\\\\ \\frac{36}{25}\\end{pmatrix}\n",
    "=\n",
    "\\begin{pmatrix}-\\frac{52}{25}\\\\ \\frac{39}{25}\\end{pmatrix}\n",
    "$"
   ]
  },
  {
   "cell_type": "markdown",
   "metadata": {},
   "source": [
    "Normalizing $\\vec{v_1}$ and $\\vec{v_2}$ to $\\vec{v_1^{'}}$ and $\\vec{v_2^{'}}$:\n",
    "\n",
    "$\n",
    "\\\\\n",
    "\\vec{v_1^{'}}\n",
    "=\n",
    "\\frac{\\vec{v_1}}{||\\vec{v_1}||}\n",
    "=\n",
    "\\frac{\\vec{v_1}}{5}\n",
    "=\n",
    "\\begin{pmatrix}\\frac{3}{5}\\\\ \\frac{4}{5}\\end{pmatrix};\n",
    "$"
   ]
  },
  {
   "cell_type": "markdown",
   "metadata": {},
   "source": [
    "$\n",
    "\\\\\n",
    "\\vec{v_2^{'}}\n",
    "=\n",
    "\\frac{\\vec{v_2}}{||\\vec{v_2}||}\n",
    "=\n",
    "\\begin{pmatrix}-\\frac{52}{25}\\\\ \\frac{39}{25}\\end{pmatrix}\n",
    "\\frac{5}{13}\n",
    "=\n",
    "\\begin{pmatrix}-\\frac{4}{5}\\\\ \\frac{3}{5}\\end{pmatrix}\n",
    "$"
   ]
  },
  {
   "cell_type": "markdown",
   "metadata": {},
   "source": [
    "Thus:"
   ]
  },
  {
   "cell_type": "markdown",
   "metadata": {},
   "source": [
    "$\n",
    "Q\n",
    "=\n",
    "\\begin{pmatrix}\\frac{3}{5}&-\\frac{4}{5}\\\\ \\frac{4}{5}&\\frac{3}{5}\\end{pmatrix}\n",
    "$"
   ]
  },
  {
   "cell_type": "markdown",
   "metadata": {},
   "source": [
    "$\n",
    "R\n",
    "=\n",
    "Q^T A\n",
    "=\n",
    "\\begin{pmatrix}\\frac{3}{5}&\\frac{4}{5}\\\\ \\:-\\frac{4}{5}&\\frac{3}{5}\\end{pmatrix}\\begin{pmatrix}3&-1\\\\ \\:4&3\\end{pmatrix}\n",
    "=\n",
    "\\begin{pmatrix}5&\\frac{9}{5}\\\\ 0&\\frac{13}{5}\\end{pmatrix}$"
   ]
  },
  {
   "cell_type": "markdown",
   "metadata": {},
   "source": [
    "$\n",
    "Q R\n",
    "=\n",
    "\\begin{pmatrix}\\frac{3}{5}&-\\frac{4}{5}\\\\ \\frac{4}{5}&\\frac{3}{5}\\end{pmatrix}\\begin{pmatrix}5&\\frac{9}{5}\\\\ 0&\\frac{13}{5}\\end{pmatrix}\n",
    "=\n",
    "\\begin{pmatrix}3&-1\\\\ 4&3\\end{pmatrix}\n",
    "=\n",
    "A\n",
    "$"
   ]
  },
  {
   "cell_type": "markdown",
   "metadata": {},
   "source": [
    "# (b)"
   ]
  },
  {
   "cell_type": "markdown",
   "metadata": {},
   "source": [
    "$\n",
    "A\n",
    "=\n",
    "\\begin{pmatrix}1&2\\\\ 2&1\\\\ 2&4\\end{pmatrix}\n",
    "\\rightarrow\n",
    "\\vec{u_1}\n",
    "=\n",
    "\\begin{pmatrix}1\\\\ 2\\\\ 2\\end{pmatrix}\n",
    ";\n",
    "\\vec{u_2}\n",
    "=\n",
    "\\begin{pmatrix}2\\\\ 1\\\\ 4\\end{pmatrix};\n",
    "\\\\\\\\\n",
    "$"
   ]
  },
  {
   "cell_type": "markdown",
   "metadata": {},
   "source": [
    "Let $\\vec{u_1} = \\vec{v_1} = \\begin{pmatrix}1\\\\ 2\\\\ 2\\end{pmatrix}$."
   ]
  },
  {
   "cell_type": "markdown",
   "metadata": {},
   "source": [
    "Then:\n",
    "\n",
    "$\n",
    "\\\\\n",
    "\\vec{v_2} = \\vec{u_2} - proj_{\\vec{v_1}}\\vec{u_2}\n",
    "= \n",
    "\\vec{u_2} - \\frac{\\vec{u_2} \\cdot \\vec{v_1}}{\\vec{v_1} \\cdot \\vec{v_1}}\\vec{v_1}\n",
    "=\n",
    "\\\\\n",
    "=\n",
    "\\begin{pmatrix}2\\\\ 1\\\\ 4\\end{pmatrix}\n",
    "-\n",
    "\\:\\frac{\\begin{pmatrix}2&1&4\\end{pmatrix}\\begin{pmatrix}1\\\\ 2\\\\ 2\\end{pmatrix}}{\\begin{pmatrix}1&2&2\\end{pmatrix}\\begin{pmatrix}1\\\\ 2\\\\ 2\\end{pmatrix}}\\begin{pmatrix}1\\\\ \\:2\\\\ \\:2\\end{pmatrix}\n",
    "=\n",
    "\\begin{pmatrix}2\\\\ 1\\\\ 4\\end{pmatrix}\n",
    "-\n",
    "\\begin{pmatrix}\\frac{4}{3}\\\\ \\frac{8}{3}\\\\ \\frac{8}{3}\\end{pmatrix}\n",
    "=\n",
    "\\begin{pmatrix}\\frac{2}{3}\\\\ -\\frac{5}{3}\\\\ \\frac{4}{3}\\end{pmatrix}\n",
    "=\n",
    "\\vec{v_2};\n",
    "$"
   ]
  },
  {
   "cell_type": "markdown",
   "metadata": {},
   "source": [
    "Normalizing $\\vec{v_1}$ and $\\vec{v_2}$ to $\\vec{v_1^{'}}$ and $\\vec{v_2^{'}}$:\n",
    "\n",
    "$\n",
    "\\\\\n",
    "\\vec{v_1^{'}}\n",
    "=\n",
    "\\frac{\\vec{v_1}}{||\\vec{v_1}||}\n",
    "=\n",
    "\\frac{\\vec{v_1}}{3}\n",
    "=\n",
    "\\begin{pmatrix}\\frac{1}{3}\\\\ \\frac{2}{3}\\\\ \\frac{2}{3}\\end{pmatrix};\n",
    "$"
   ]
  },
  {
   "cell_type": "markdown",
   "metadata": {},
   "source": [
    "$\n",
    "\\\\\n",
    "\\vec{v_2^{'}}\n",
    "=\n",
    "\\frac{\\vec{v_2}}{||\\vec{v_2}||}\n",
    "=\n",
    "\\frac{\\vec{v_2}}{\\sqrt{5}}\n",
    "=\n",
    "\\begin{pmatrix}\\frac{2}{3}\\\\ -\\frac{5}{3}\\\\ \\frac{4}{3}\\end{pmatrix}\n",
    "\\frac{1}{\\sqrt{5}}\n",
    "=\n",
    "\\begin{pmatrix}\\frac{2}{3\\sqrt{5}}\\\\ -\\frac{5}{3\\sqrt{5}}\\\\ \\frac{4}{3\\sqrt{5}}\\end{pmatrix}\n",
    "$"
   ]
  },
  {
   "cell_type": "markdown",
   "metadata": {},
   "source": [
    "Thus:"
   ]
  },
  {
   "cell_type": "markdown",
   "metadata": {},
   "source": [
    "$\n",
    "Q\n",
    "=\n",
    "\\begin{pmatrix}\\frac{1}{3}&\\frac{2}{3\\sqrt{5}}\\\\ \\frac{2}{3}&-\\frac{5}{3\\sqrt{5}}\\\\ \\frac{2}{3}&\\frac{4}{3\\sqrt{5}}\\end{pmatrix}\n",
    "$"
   ]
  },
  {
   "cell_type": "markdown",
   "metadata": {},
   "source": [
    "$\n",
    "R\n",
    "=\n",
    "Q^T A\n",
    "=\n",
    "\\begin{pmatrix}\\frac{1}{3}&\\frac{2}{3}&\\frac{2}{3}\\\\ \\frac{2}{3\\sqrt{5}}&-\\frac{5}{3\\sqrt{5}}&\\frac{4}{3\\sqrt{5}}\\end{pmatrix}\n",
    "\\begin{pmatrix}1&2\\\\ 2&1\\\\ 2&4\\end{pmatrix}\n",
    "=\n",
    "\\begin{pmatrix}3&4\\\\ 0&\\sqrt{5}\\end{pmatrix}\n",
    "$"
   ]
  },
  {
   "cell_type": "markdown",
   "metadata": {},
   "source": [
    "$\n",
    "Q R\n",
    "=\n",
    "\\begin{pmatrix}\\frac{1}{3}&\\frac{2}{3\\sqrt{5}}\\\\ \\frac{2}{3}&-\\frac{5}{3\\sqrt{5}}\\\\ \\frac{2}{3}&\\frac{4}{3\\sqrt{5}}\\end{pmatrix}\\begin{pmatrix}3&4\\\\ 0&\\sqrt{5}\\end{pmatrix}\n",
    "=\n",
    "\\begin{pmatrix}1&2\\\\ 2&1\\\\ 2&4\\end{pmatrix}\n",
    "=\n",
    "A\n",
    "$"
   ]
  },
  {
   "cell_type": "markdown",
   "metadata": {},
   "source": [
    "# (c)"
   ]
  },
  {
   "cell_type": "markdown",
   "metadata": {},
   "source": [
    "$\n",
    "A\n",
    "=\n",
    "\\begin{pmatrix}1&2&2\\\\ 2&-1&1\\\\ 2&0&1\\end{pmatrix};\n",
    "\\vec{u_1}\n",
    "=\n",
    "\\begin{pmatrix}1\\\\ 2\\\\ 2\\end{pmatrix}\n",
    ";\n",
    "\\vec{u_2}\n",
    "=\n",
    "\\begin{pmatrix}2\\\\ -1\\\\ 0\\end{pmatrix};\n",
    "\\vec{u_3}\n",
    "=\n",
    "\\begin{pmatrix}2\\\\ 1\\\\ 1\\end{pmatrix};\n",
    "\\\\\\\\\n",
    "$"
   ]
  },
  {
   "cell_type": "markdown",
   "metadata": {},
   "source": [
    "Let $\\vec{u_1} = \\vec{v_1} = \\begin{pmatrix}1\\\\ 2\\\\ 2\\end{pmatrix}$.\n"
   ]
  },
  {
   "cell_type": "markdown",
   "metadata": {},
   "source": [
    "Then:\n",
    "\n",
    "$\n",
    "\\\\\n",
    "\\vec{v_2} = \\vec{u_2} - proj_{\\vec{v_1}}\\vec{u_2}\n",
    "= \n",
    "\\vec{u_2} - \\frac{\\vec{u_2} \\cdot \\vec{v_1}}{\\vec{v_1} \\cdot \\vec{v_1}}\\vec{v_1}\n",
    "=\n",
    "\\\\\n",
    "=\n",
    "\\begin{pmatrix}2\\\\ -1\\\\ 0\\end{pmatrix}\n",
    "-\n",
    "\\:\\frac{\\begin{pmatrix}2&-1&0\\end{pmatrix}\\begin{pmatrix}1\\\\ 2\\\\ 2\\end{pmatrix}}{\\begin{pmatrix}1&2&2\\end{pmatrix}\\begin{pmatrix}1\\\\ 2\\\\ 2\\end{pmatrix}}\\begin{pmatrix}1\\\\ \\:2\\\\ \\:2\\end{pmatrix}\n",
    "=\n",
    "\\begin{pmatrix}2\\\\ -1\\\\ 0\\end{pmatrix}\n",
    "=\n",
    "\\vec{v_2};\n",
    "$"
   ]
  },
  {
   "cell_type": "markdown",
   "metadata": {},
   "source": [
    "Then:\n",
    "$\n",
    "\\\\\n",
    "\\vec{v_3} = \\vec{u_3} - proj_{\\vec{v_1}}\\vec{u_3}-proj_{\\vec{v_2}}\\vec{u_3}\n",
    "= \n",
    "\\\\\n",
    "=\n",
    "\\begin{pmatrix}2\\\\ 1\\\\ 1\\end{pmatrix}\n",
    "-\n",
    "\\:\\frac{\\begin{pmatrix}2&1&1\\end{pmatrix}\\begin{pmatrix}1\\\\ 2\\\\ 2\\end{pmatrix}}{\\begin{pmatrix}1&2&2\\end{pmatrix}\\begin{pmatrix}1\\\\ 2\\\\ 2\\end{pmatrix}}\\begin{pmatrix}1\\\\ \\:2\\\\ \\:2\\end{pmatrix}\n",
    "-\n",
    "\\:\\frac{\\begin{pmatrix}2&1&1\\end{pmatrix}\\begin{pmatrix}2\\\\ -1\\\\ 0\\end{pmatrix}}{\\begin{pmatrix}2&-1&0\\end{pmatrix}\\begin{pmatrix}2\\\\ -1\\\\ 0\\end{pmatrix}}\\begin{pmatrix}2\\\\ -1\\\\ 0\\end{pmatrix}\n",
    "=\n",
    "\\begin{pmatrix}2\\\\ 1\\\\ 1\\end{pmatrix}\n",
    "-\n",
    "\\frac{2}{3}\n",
    "\\begin{pmatrix}1\\\\ \\:2\\\\ \\:2\\end{pmatrix}\n",
    "-\n",
    "\\frac{3}{5}\n",
    "\\begin{pmatrix}2\\\\ -1\\\\ 0\\end{pmatrix}\n",
    "=\n",
    "\\begin{pmatrix}2\\\\ 1\\\\ 1\\end{pmatrix}\n",
    "-\n",
    "\\begin{pmatrix}\\frac{2}{3}\\\\ \\frac{4}{3}\\\\ \\frac{4}{3}\\end{pmatrix}\n",
    "-\n",
    "\\begin{pmatrix}\\frac{6}{5}\\\\ -\\frac{3}{5}\\\\ 0\\end{pmatrix}\n",
    "=\n",
    "\\begin{pmatrix}\\frac{2}{15}\\\\ \\frac{4}{15}\\\\ -\\frac{1}{3}\\end{pmatrix}\n",
    "=\n",
    "\\vec{v_3}\n",
    "$"
   ]
  },
  {
   "cell_type": "markdown",
   "metadata": {},
   "source": [
    "Normalizing $\\vec{v_1}$, $\\vec{v_2}$,$\\vec{v_3}$ to $\\vec{v_1^{'}}$, $\\vec{v_2^{'}}$, $\\vec{v_3^{'}}$:\n",
    "\n",
    "$\n",
    "\\\\\n",
    "\\vec{v_1^{'}}\n",
    "=\n",
    "\\frac{\\vec{v_1}}{||\\vec{v_1}||}\n",
    "=\n",
    "\\frac{\\vec{v_1}}{3}\n",
    "=\n",
    "\\begin{pmatrix}\\frac{1}{3}\\\\ \\frac{2}{3}\\\\ \\frac{2}{3}\\end{pmatrix};\n",
    "$"
   ]
  },
  {
   "cell_type": "markdown",
   "metadata": {},
   "source": [
    "$\n",
    "\\\\\n",
    "\\vec{v_2^{'}}\n",
    "=\n",
    "\\frac{\\vec{v_2}}{||\\vec{v_2}||}\n",
    "=\n",
    "\\frac{\\vec{v_2}}{\\sqrt{5}}\n",
    "=\n",
    "\\begin{pmatrix}2\\\\ -1\\\\ 0\\end{pmatrix}\n",
    "\\frac{1}{\\sqrt{5}}\n",
    "=\n",
    "\\begin{pmatrix}\\frac{2}{\\sqrt{5}}\\\\ \\frac{-1}{\\sqrt{5}}\\\\ 0\\end{pmatrix}\n",
    "$"
   ]
  },
  {
   "cell_type": "markdown",
   "metadata": {},
   "source": [
    "$\n",
    "\\\\\n",
    "\\vec{v_3^{'}}\n",
    "=\n",
    "\\frac{\\vec{v_3}}{||\\vec{v_3}||}\n",
    "=\n",
    "\\frac\n",
    "{\n",
    "\\begin{pmatrix}\\frac{2}{15}\\\\ \\frac{4}{15}\\\\ -\\frac{1}{3}\\end{pmatrix}\n",
    "}\n",
    "{\n",
    "\\sqrt{\\frac{1}{5}}\n",
    "}\n",
    "=\n",
    "\\begin{pmatrix}\\frac{2}{3\\sqrt{5}}\\\\ \\frac{4}{3\\sqrt{5}}\\\\ -\\frac{\\sqrt{5}}{3}\\end{pmatrix}\n",
    "$"
   ]
  },
  {
   "cell_type": "markdown",
   "metadata": {},
   "source": [
    "Thus:"
   ]
  },
  {
   "cell_type": "markdown",
   "metadata": {},
   "source": [
    "$\n",
    "Q\n",
    "=\n",
    "\\begin{pmatrix}\\frac{1}{3}&\\frac{2}{\\sqrt{5}}&\\frac{2}{3\\sqrt{5}}\\\\ \\frac{2}{3}&-\\frac{1}{\\sqrt{5}}&\\frac{4}{3\\sqrt{5}}\\\\ \\frac{2}{3}&0&-\\frac{\\sqrt{5}}{3}\\end{pmatrix}\n",
    "$"
   ]
  },
  {
   "cell_type": "markdown",
   "metadata": {},
   "source": [
    "$\n",
    "R\n",
    "=\n",
    "Q^T A\n",
    "=\n",
    "\\begin{pmatrix}\\frac{1}{3}&\\frac{2}{3}&\\frac{2}{3}\\\\ \\frac{2}{\\sqrt{5}}&-\\frac{1}{\\sqrt{5}}&0\\\\ \\frac{2}{3\\sqrt{5}}&\\frac{4}{3\\sqrt{5}}&-\\frac{\\sqrt{5}}{3}\\end{pmatrix}\n",
    "\\begin{pmatrix}1&2&2\\\\ 2&-1&1\\\\ 2&0&1\\end{pmatrix}\n",
    "=\n",
    "\\begin{pmatrix}3&0&2\\\\ 0&\\sqrt{5}&\\frac{3}{\\sqrt{5}}\\\\ 0&0&\\frac{1}{\\sqrt{5}}\\end{pmatrix}\n",
    "$"
   ]
  },
  {
   "cell_type": "markdown",
   "metadata": {},
   "source": [
    "$\n",
    "Q R\n",
    "=\n",
    "\\begin{pmatrix}\\frac{1}{3}&\\frac{2}{\\sqrt{5}}&\\frac{2}{3\\sqrt{5}}\\\\ \\frac{2}{3}&-\\frac{1}{\\sqrt{5}}&\\frac{4}{3\\sqrt{5}}\\\\ \\frac{2}{3}&0&-\\frac{\\sqrt{5}}{3}\\end{pmatrix}\n",
    "\\begin{pmatrix}3&0&2\\\\ 0&\\sqrt{5}&\\frac{3}{\\sqrt{5}}\\\\ 0&0&\\frac{1}{\\sqrt{5}}\\end{pmatrix}\n",
    "=\n",
    "\\begin{pmatrix}1&2&2\\\\ 2&-1&1\\\\ 2&0&1\\end{pmatrix}\n",
    "=\n",
    "A\n",
    "$"
   ]
  },
  {
   "cell_type": "markdown",
   "metadata": {},
   "source": [
    "# Writing a code (in Python) for the QR-decomposition using the Gram–Schmidt algorithm to check above solutions."
   ]
  },
  {
   "cell_type": "code",
   "execution_count": 28,
   "metadata": {},
   "outputs": [],
   "source": [
    "import numpy as np\n",
    "import sys\n",
    "import warnings\n",
    "\n",
    "if not sys.warnoptions:\n",
    "    warnings.simplefilter(\"ignore\")"
   ]
  },
  {
   "cell_type": "markdown",
   "metadata": {},
   "source": [
    "Writing function of finding projection of v_2 onto v_1 to use it later in algorithm:"
   ]
  },
  {
   "cell_type": "code",
   "execution_count": 15,
   "metadata": {},
   "outputs": [],
   "source": [
    "def projection(v1, v2):\n",
    "    proj = (np.dot(v2, v1) / np.dot(v1, v1)) * v1\n",
    "    return proj"
   ]
  },
  {
   "cell_type": "markdown",
   "metadata": {},
   "source": [
    "Writing function of extracting column vectors from an arbitrary given matrix A:"
   ]
  },
  {
   "cell_type": "code",
   "execution_count": 16,
   "metadata": {},
   "outputs": [],
   "source": [
    "def extract_col_vectors(A):\n",
    "    col_vectors = []\n",
    "    for i in range(A.shape[1]):\n",
    "        col_vectors.append(A[:,i])\n",
    "    return col_vectors"
   ]
  },
  {
   "cell_type": "markdown",
   "metadata": {},
   "source": [
    "Writing function that sums given column vectors resulting in vector: "
   ]
  },
  {
   "cell_type": "code",
   "execution_count": 17,
   "metadata": {},
   "outputs": [],
   "source": [
    "#summing list of arrays\n",
    "def sum_arrays(list_arrays):\n",
    "    first = list_arrays[0]\n",
    "    sum_list = [first]\n",
    "    for i in range(1, len(list_arrays)):\n",
    "        print(list_arrays[i])\n",
    "        sum_list[0] = np.add(sum_list[0],list_arrays[i])\n",
    "    return sum_list[0]"
   ]
  },
  {
   "cell_type": "markdown",
   "metadata": {},
   "source": [
    "Writing Gram-Schmidt process algorithm in one function:"
   ]
  },
  {
   "cell_type": "code",
   "execution_count": 32,
   "metadata": {},
   "outputs": [],
   "source": [
    "def gram_schmidt_algorithm(A):\n",
    "    #exctrating column vectors from A using above defined function\n",
    "    col_vectors = extract_col_vectors(A)\n",
    "    #creating a list that will be iteratively filled with orthogonal vectors in Gram-Schmidt process\n",
    "    W = []\n",
    "    #appending the first vector to W\n",
    "    W.append(col_vectors[0])\n",
    "    #looping through the rest of column vectors\n",
    "    for i in range(1,len(col_vectors)):\n",
    "        #extracting current col vector\n",
    "        u = col_vectors[i]\n",
    "        #base case - when we have just one first vector in our list of orthogonal vectors\n",
    "        if len(W)==1:\n",
    "            proj_onto_subspace = projection(W[0],u)\n",
    "            result = np.subtract(u,proj_onto_subspace)\n",
    "            W.append(result)\n",
    "        #for current col vector looping through each of orthogonal vectors in W, finding projection on each of them, adding proj to list\n",
    "        elif len(W) > 1:\n",
    "            proj_set = []\n",
    "            for i in W:\n",
    "                proj = projection(i,u)\n",
    "                proj_set.append(proj)\n",
    "            #adding all projections using above defined function\n",
    "            proj_onto_subspace = sum_arrays(proj_set)\n",
    "            #subtracting from current col vector result of projections addition to get our new orthogonal vector and adding it to list W\n",
    "            result = np.subtract(u,proj_onto_subspace)\n",
    "            W.append(result)\n",
    "    #finding orthonormal basis vectors from each vector of our W list:\n",
    "    orthonormal_basis = []\n",
    "    for i in W:\n",
    "        basis = i / np.linalg.norm(i)\n",
    "        orthonormal_basis.append(basis)\n",
    "    #stacking our orthonormal vectors together to form Q matrix\n",
    "    Q = np.column_stack((i for i in orthonormal_basis))\n",
    "    print('matrix Q is:')\n",
    "    print(Q)\n",
    "    print('')\n",
    "    #finding R matrix\n",
    "    R = np.dot(Q.T,A)\n",
    "    print('matrix R is: (without rounding decimals)')\n",
    "    print(R)\n",
    "    print('')\n",
    "    #find QR\n",
    "    QR = np.dot(Q,R)\n",
    "    #rounding float values and getting rid of scientific notation in matrice entries\n",
    "    QR = np.around(QR)\n",
    "    print('matrix QR is:')\n",
    "    print(QR)\n",
    "    print('')\n",
    "    print('matrix A is:')\n",
    "    print(A.astype('float'))\n",
    "    #print('')\n",
    "    #print('matrices QR and A are equal:', A.astype('float')==QR)\n",
    "    return Q,R,QR"
   ]
  },
  {
   "cell_type": "markdown",
   "metadata": {},
   "source": [
    "## Checking (a):"
   ]
  },
  {
   "cell_type": "markdown",
   "metadata": {},
   "source": [
    "Solution was:\n",
    "\n",
    "$\n",
    "Q R\n",
    "=\n",
    "\\begin{pmatrix}\\frac{3}{5}&-\\frac{4}{5}\\\\ \\frac{4}{5}&\\frac{3}{5}\\end{pmatrix}\\begin{pmatrix}5&\\frac{9}{5}\\\\ 0&\\frac{13}{5}\\end{pmatrix}\n",
    "=\n",
    "\\begin{pmatrix}3&-1\\\\ 4&3\\end{pmatrix}\n",
    "=\n",
    "A\n",
    "$"
   ]
  },
  {
   "cell_type": "code",
   "execution_count": 19,
   "metadata": {},
   "outputs": [],
   "source": [
    "A = np.array([[3,-1],[4,3]])"
   ]
  },
  {
   "cell_type": "code",
   "execution_count": 33,
   "metadata": {},
   "outputs": [
    {
     "name": "stdout",
     "output_type": "stream",
     "text": [
      "matrix Q is:\n",
      "[[ 0.6 -0.8]\n",
      " [ 0.8  0.6]]\n",
      "\n",
      "matrix R is: (without rounding decimals)\n",
      "[[ 5.0000000e+00  1.8000000e+00]\n",
      " [-4.4408921e-16  2.6000000e+00]]\n",
      "\n",
      "matrix QR is:\n",
      "[[ 3. -1.]\n",
      " [ 4.  3.]]\n",
      "\n",
      "matrix A is:\n",
      "[[ 3. -1.]\n",
      " [ 4.  3.]]\n"
     ]
    }
   ],
   "source": [
    "Q,R,QR = gram_schmidt_algorithm(A)"
   ]
  },
  {
   "cell_type": "markdown",
   "metadata": {},
   "source": [
    "Conclusion: We correctly applied Gram-Schmidt in (a). Though, I decided to not round R, so that all computations remain stable."
   ]
  },
  {
   "cell_type": "markdown",
   "metadata": {},
   "source": [
    "## Checking (b):"
   ]
  },
  {
   "cell_type": "markdown",
   "metadata": {},
   "source": [
    "Solution was:"
   ]
  },
  {
   "cell_type": "markdown",
   "metadata": {},
   "source": [
    "$\n",
    "Q R\n",
    "=\n",
    "\\begin{pmatrix}\\frac{1}{3}&\\frac{2}{3\\sqrt{5}}\\\\ \\frac{2}{3}&-\\frac{5}{3\\sqrt{5}}\\\\ \\frac{2}{3}&\\frac{4}{3\\sqrt{5}}\\end{pmatrix}\\begin{pmatrix}3&4\\\\ 0&\\sqrt{5}\\end{pmatrix}\n",
    "=\n",
    "\\begin{pmatrix}1&2\\\\ 2&1\\\\ 2&4\\end{pmatrix}\n",
    "=\n",
    "A\n",
    "$"
   ]
  },
  {
   "cell_type": "code",
   "execution_count": 34,
   "metadata": {},
   "outputs": [],
   "source": [
    "A = np.array([[1,2],[2,1],[2,4]])"
   ]
  },
  {
   "cell_type": "code",
   "execution_count": 35,
   "metadata": {},
   "outputs": [
    {
     "name": "stdout",
     "output_type": "stream",
     "text": [
      "matrix Q is:\n",
      "[[ 0.33333333  0.2981424 ]\n",
      " [ 0.66666667 -0.74535599]\n",
      " [ 0.66666667  0.59628479]]\n",
      "\n",
      "matrix R is: (without rounding decimals)\n",
      "[[3.00000000e+00 4.00000000e+00]\n",
      " [2.22044605e-16 2.23606798e+00]]\n",
      "\n",
      "matrix QR is:\n",
      "[[1. 2.]\n",
      " [2. 1.]\n",
      " [2. 4.]]\n",
      "\n",
      "matrix A is:\n",
      "[[1. 2.]\n",
      " [2. 1.]\n",
      " [2. 4.]]\n"
     ]
    }
   ],
   "source": [
    "Q,R,QR = gram_schmidt_algorithm(A)"
   ]
  },
  {
   "cell_type": "markdown",
   "metadata": {},
   "source": [
    "Conclusion: We also correctly applied Gram-Schmidt in (b). Though, again,  I decided to not round R, so that all computations remain stable."
   ]
  },
  {
   "cell_type": "markdown",
   "metadata": {},
   "source": [
    "## Checking (c):"
   ]
  },
  {
   "cell_type": "markdown",
   "metadata": {},
   "source": [
    "Solution was:"
   ]
  },
  {
   "cell_type": "markdown",
   "metadata": {},
   "source": [
    "$\n",
    "Q R\n",
    "=\n",
    "\\begin{pmatrix}\\frac{1}{3}&\\frac{2}{\\sqrt{5}}&\\frac{2}{3\\sqrt{5}}\\\\ \\frac{2}{3}&-\\frac{1}{\\sqrt{5}}&\\frac{4}{3\\sqrt{5}}\\\\ \\frac{2}{3}&0&-\\frac{\\sqrt{5}}{3}\\end{pmatrix}\n",
    "\\begin{pmatrix}3&0&2\\\\ 0&\\sqrt{5}&\\frac{3}{\\sqrt{5}}\\\\ 0&0&\\frac{1}{\\sqrt{5}}\\end{pmatrix}\n",
    "=\n",
    "\\begin{pmatrix}1&2&2\\\\ 2&-1&1\\\\ 2&0&1\\end{pmatrix}\n",
    "=\n",
    "A\n",
    "$"
   ]
  },
  {
   "cell_type": "code",
   "execution_count": 37,
   "metadata": {},
   "outputs": [],
   "source": [
    "A = np.array([[1,2,2],[2,-1,1],[2,0,1]])"
   ]
  },
  {
   "cell_type": "code",
   "execution_count": 38,
   "metadata": {},
   "outputs": [
    {
     "name": "stdout",
     "output_type": "stream",
     "text": [
      "[ 1.2 -0.6  0. ]\n",
      "matrix Q is:\n",
      "[[ 0.33333333  0.89442719  0.2981424 ]\n",
      " [ 0.66666667 -0.4472136   0.59628479]\n",
      " [ 0.66666667  0.         -0.74535599]]\n",
      "\n",
      "matrix R is: (without rounding decimals)\n",
      "[[ 3.00000000e+00  0.00000000e+00  2.00000000e+00]\n",
      " [ 0.00000000e+00  2.23606798e+00  1.34164079e+00]\n",
      " [ 4.44089210e-16 -3.33066907e-16  4.47213595e-01]]\n",
      "\n",
      "matrix QR is:\n",
      "[[ 1.  2.  2.]\n",
      " [ 2. -1.  1.]\n",
      " [ 2.  0.  1.]]\n",
      "\n",
      "matrix A is:\n",
      "[[ 1.  2.  2.]\n",
      " [ 2. -1.  1.]\n",
      " [ 2.  0.  1.]]\n"
     ]
    }
   ],
   "source": [
    "Q,R,QR = gram_schmidt_algorithm(A)"
   ]
  },
  {
   "cell_type": "markdown",
   "metadata": {},
   "source": [
    "Conclusion: We also correctly applied Gram-Schmidt in (c). Though, again,  I decided to not round R, so that all computations remain stable."
   ]
  }
 ],
 "metadata": {
  "kernelspec": {
   "display_name": "Python 3",
   "language": "python",
   "name": "python3"
  },
  "language_info": {
   "codemirror_mode": {
    "name": "ipython",
    "version": 3
   },
   "file_extension": ".py",
   "mimetype": "text/x-python",
   "name": "python",
   "nbconvert_exporter": "python",
   "pygments_lexer": "ipython3",
   "version": "3.7.3"
  },
  "toc": {
   "colors": {
    "hover_highlight": "#DAA520",
    "navigate_num": "#000000",
    "navigate_text": "#333333",
    "running_highlight": "#FF0000",
    "selected_highlight": "#FFD700",
    "sidebar_border": "#EEEEEE",
    "wrapper_background": "#FFFFFF"
   },
   "moveMenuLeft": true,
   "nav_menu": {
    "height": "181.587px",
    "width": "251.971px"
   },
   "navigate_menu": true,
   "number_sections": false,
   "sideBar": true,
   "threshold": 4,
   "toc_cell": false,
   "toc_section_display": "block",
   "toc_window_display": true,
   "widenNotebook": false
  }
 },
 "nbformat": 4,
 "nbformat_minor": 2
}
